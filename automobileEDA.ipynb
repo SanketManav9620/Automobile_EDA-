{
  "nbformat": 4,
  "nbformat_minor": 0,
  "metadata": {
    "colab": {
      "private_outputs": true,
      "provenance": [],
      "collapsed_sections": [
        "vncDsAP0Gaoa",
        "FJNUwmbgGyua",
        "w6K7xa23Elo4",
        "yQaldy8SH6Dl",
        "PH-0ReGfmX4f",
        "mDgbUHAGgjLW",
        "O_i_v8NEhb9l",
        "HhfV-JJviCcP",
        "Y3lxredqlCYt",
        "3RnN4peoiCZX",
        "x71ZqKXriCWQ",
        "7hBIi_osiCS2",
        "JlHwYmJAmNHm",
        "35m5QtbWiB9F",
        "PoPl-ycgm1ru",
        "H0kj-8xxnORC",
        "nA9Y7ga8ng1Z",
        "PBTbrJXOngz2",
        "u3PMJOP6ngxN",
        "dauF4eBmngu3",
        "bKJF3rekwFvQ",
        "MSa1f5Uengrz",
        "GF8Ens_Soomf",
        "0wOQAZs5pc--",
        "K5QZ13OEpz2H",
        "lQ7QKXXCp7Bj",
        "448CDAPjqfQr",
        "KSlN3yHqYklG",
        "t6dVpIINYklI",
        "ijmpgYnKYklI",
        "-JiQyfWJYklI",
        "EM7whBJCYoAo",
        "fge-S5ZAYoAp",
        "85gYPyotYoAp",
        "RoGjAbkUYoAp",
        "4Of9eVA-YrdM",
        "iky9q4vBYrdO",
        "F6T5p64dYrdO",
        "y-Ehk30pYrdP",
        "bamQiAODYuh1",
        "QHF8YVU7Yuh3",
        "GwzvFGzlYuh3",
        "qYpmQ266Yuh3",
        "OH-pJp9IphqM",
        "bbFf2-_FphqN",
        "_ouA3fa0phqN",
        "Seke61FWphqN",
        "PIIx-8_IphqN",
        "t27r6nlMphqO",
        "r2jJGEOYphqO",
        "b0JNsNcRphqO",
        "BZR9WyysphqO",
        "jj7wYXLtphqO",
        "eZrbJ2SmphqO",
        "rFu4xreNphqO",
        "YJ55k-q6phqO",
        "gCFgpxoyphqP",
        "OVtJsKN_phqQ",
        "lssrdh5qphqQ",
        "U2RJ9gkRphqQ",
        "1M8mcRywphqQ",
        "tgIPom80phqQ",
        "JMzcOPDDphqR",
        "x-EpHcCOp1ci",
        "X_VqEhTip1ck",
        "8zGJKyg5p1ck",
        "PVzmfK_Ep1ck",
        "n3dbpmDWp1ck",
        "ylSl6qgtp1ck",
        "ZWILFDl5p1ck",
        "M7G43BXep1ck",
        "Ag9LCva-p1cl",
        "E6MkPsBcp1cl",
        "2cELzS2fp1cl",
        "3MPXvC8up1cl",
        "NC_X3p0fY2L0",
        "UV0SzAkaZNRQ",
        "YPEH6qLeZNRQ",
        "q29F0dvdveiT",
        "EXh0U9oCveiU",
        "22aHeOlLveiV",
        "JcMwzZxoAimU",
        "8G2x9gOozGDZ",
        "gCX9965dhzqZ",
        "gIfDvo9L0UH2"
      ],
      "include_colab_link": true
    },
    "kernelspec": {
      "name": "python3",
      "display_name": "Python 3"
    },
    "language_info": {
      "name": "python"
    }
  },
  "cells": [
    {
      "cell_type": "markdown",
      "metadata": {
        "id": "view-in-github",
        "colab_type": "text"
      },
      "source": [
        "<a href=\"https://colab.research.google.com/github/SanketManav9620/Automobile_EDA-/blob/main/automobileEDA.ipynb\" target=\"_parent\"><img src=\"https://colab.research.google.com/assets/colab-badge.svg\" alt=\"Open In Colab\"/></a>"
      ]
    },
    {
      "cell_type": "markdown",
      "source": [
        "# **Project Name**    -\n",
        "\n"
      ],
      "metadata": {
        "id": "vncDsAP0Gaoa"
      }
    },
    {
      "cell_type": "markdown",
      "source": [
        "##### **Project Type**    - EDA\n",
        "##### **Contribution**    - Individual\n",
        "Sanket Kumar"
      ],
      "metadata": {
        "id": "beRrZCGUAJYm"
      }
    },
    {
      "cell_type": "markdown",
      "source": [
        "# **Project Summary -**"
      ],
      "metadata": {
        "id": "FJNUwmbgGyua"
      }
    },
    {
      "cell_type": "markdown",
      "source": [
        "This Exploratory Data Analysis (EDA) project aims to understand the structure, trends, and relationships within a comprehensive automobile dataset. The dataset includes various car attributes such as price, engine specifications, fuel type, body style, number of cylinders, and performance metrics like mileage and horsepower. The objective was to prepare the data for analysis, uncover hidden patterns, and derive actionable insights for business decision-making.\n",
        "\n",
        "We started with data cleaning by identifying and replacing missing or inconsistent values, converting data types, and handling special characters like '?'. Numeric columns with missing data were imputed using median values, while categorical columns were cleaned and transformed for consistency. Special attention was given to transforming textual representations (e.g., “four”, “six”) into numerical formats to enable analysis.\n",
        "\n",
        "We performed extensive visual exploration using bar plots, box plots, scatter plots, pair plots, and heatmaps. These charts revealed that variables like engine size, horsepower, and curb weight are positively correlated with car price. In contrast, fuel efficiency (measured in city and highway MPG) tends to be higher in lower-priced cars.\n",
        "\n",
        "Further analysis showed that body style, aspiration type (turbo vs standard), drive wheels, and fuel type significantly affect the vehicle's market value. We also examined brand-specific trends, observing that luxury brands typically dominate the higher price segments.\n",
        "\n",
        "Based on our findings, we proposed actionable strategies such as segmentation of customers, feature-based pricing, and optimization of product offerings. These insights can directly support pricing strategies, customer targeting, and feature prioritization in product development.\n",
        "\n",
        "Overall, this project demonstrates the critical role of EDA in transforming raw, unstructured data into a refined dataset that provides valuable business insights. It sets a strong foundation for future tasks like predictive modeling or deeper market analysis."
      ],
      "metadata": {
        "id": "F6v_1wHtG2nS"
      }
    },
    {
      "cell_type": "markdown",
      "source": [
        "# **GitHub Link -**"
      ],
      "metadata": {
        "id": "w6K7xa23Elo4"
      }
    },
    {
      "cell_type": "markdown",
      "source": [
        "Provide your GitHub Link here."
      ],
      "metadata": {
        "id": "h1o69JH3Eqqn"
      }
    },
    {
      "cell_type": "markdown",
      "source": [
        "# **Problem Statement**\n"
      ],
      "metadata": {
        "id": "yQaldy8SH6Dl"
      }
    },
    {
      "cell_type": "markdown",
      "source": [
        "The automotive industry constantly seeks to understand what factors influence car pricing and how these factors relate to consumer preferences and performance. With numerous car models varying by brand, engine size, fuel type, and other specifications, it becomes essential to identify which features most significantly impact a car’s market value. The raw dataset contains missing values, inconsistent formats, and categorical variables that require transformation to be useful for analysis.\n",
        "\n",
        "This project aims to perform exploratory data analysis (EDA) on a car dataset to clean, transform, and uncover meaningful patterns and relationships that can guide business decisions.\n",
        "\n"
      ],
      "metadata": {
        "id": "DpeJGUA3kjGy"
      }
    },
    {
      "cell_type": "markdown",
      "source": [
        "#### **Define Your Business Objective?**"
      ],
      "metadata": {
        "id": "PH-0ReGfmX4f"
      }
    },
    {
      "cell_type": "markdown",
      "source": [
        "The primary business objective is to identify key factors that influence the price of a car and understand how different features such as brand, engine size, horsepower, mileage, fuel type, and body style affect consumer value perception.\n",
        "\n",
        "By doing this, the goal is to:\n",
        "\n",
        "Enable data-driven pricing strategies.\n",
        "Segment the customer base for better targeted marketing.\n",
        "Optimize product offerings based on performance and efficiency trends.\n",
        "Provide a clean and structured dataset ready for predictive modeling in future phases.\n",
        "The ultimate aim is to support automotive businesses in increasing profitability, improving customer satisfaction, and launching competitive products in the market.Answer Here."
      ],
      "metadata": {
        "id": "PhDvGCAqmjP1"
      }
    },
    {
      "cell_type": "markdown",
      "source": [
        "# **General Guidelines** : -  "
      ],
      "metadata": {
        "id": "mDgbUHAGgjLW"
      }
    },
    {
      "cell_type": "markdown",
      "source": [
        "1.   Well-structured, formatted, and commented code is required.\n",
        "2.   Exception Handling, Production Grade Code & Deployment Ready Code will be a plus. Those students will be awarded some additional credits.\n",
        "     \n",
        "     The additional credits will have advantages over other students during Star Student selection.\n",
        "       \n",
        "             [ Note: - Deployment Ready Code is defined as, the whole .ipynb notebook should be executable in one go\n",
        "                       without a single error logged. ]\n",
        "\n",
        "3.   Each and every logic should have proper comments.\n",
        "4. You may add as many number of charts you want. Make Sure for each and every chart the following format should be answered.\n",
        "        \n",
        "\n",
        "```\n",
        "# Chart visualization code\n",
        "```\n",
        "            \n",
        "\n",
        "*   Why did you pick the specific chart?\n",
        "*   What is/are the insight(s) found from the chart?\n",
        "* Will the gained insights help creating a positive business impact?\n",
        "Are there any insights that lead to negative growth? Justify with specific reason.\n",
        "\n",
        "5. You have to create at least 20 logical & meaningful charts having important insights.\n",
        "\n",
        "\n",
        "[ Hints : - Do the Vizualization in  a structured way while following \"UBM\" Rule.\n",
        "\n",
        "U - Univariate Analysis,\n",
        "\n",
        "B - Bivariate Analysis (Numerical - Categorical, Numerical - Numerical, Categorical - Categorical)\n",
        "\n",
        "M - Multivariate Analysis\n",
        " ]\n",
        "\n",
        "\n",
        "\n"
      ],
      "metadata": {
        "id": "ZrxVaUj-hHfC"
      }
    },
    {
      "cell_type": "markdown",
      "source": [
        "# ***Let's Begin !***"
      ],
      "metadata": {
        "id": "O_i_v8NEhb9l"
      }
    },
    {
      "cell_type": "markdown",
      "source": [
        "## ***1. Know Your Data***"
      ],
      "metadata": {
        "id": "HhfV-JJviCcP"
      }
    },
    {
      "cell_type": "markdown",
      "source": [
        "### Import Libraries"
      ],
      "metadata": {
        "id": "Y3lxredqlCYt"
      }
    },
    {
      "cell_type": "code",
      "source": [
        "# Import Libraries\n",
        "import pandas as pd\n",
        "import numpy as np\n",
        "import matplotlib.pyplot as plt\n",
        "import seaborn as sns"
      ],
      "metadata": {
        "id": "M8Vqi-pPk-HR"
      },
      "execution_count": null,
      "outputs": []
    },
    {
      "cell_type": "markdown",
      "source": [
        "### Dataset Loading"
      ],
      "metadata": {
        "id": "3RnN4peoiCZX"
      }
    },
    {
      "cell_type": "code",
      "source": [
        "# Load Dataset\n",
        "from google.colab import drive\n",
        "drive.mount('/content/drive')\n",
        "path=\"/content/drive/MyDrive/automobile project/automobile_data.csv\"\n",
        "df=pd.read_csv(path)"
      ],
      "metadata": {
        "id": "4CkvbW_SlZ_R"
      },
      "execution_count": null,
      "outputs": []
    },
    {
      "cell_type": "markdown",
      "source": [
        "### Dataset First View"
      ],
      "metadata": {
        "id": "x71ZqKXriCWQ"
      }
    },
    {
      "cell_type": "code",
      "source": [
        "df.head()\n",
        "# Dataset First Look"
      ],
      "metadata": {
        "id": "LWNFOSvLl09H"
      },
      "execution_count": null,
      "outputs": []
    },
    {
      "cell_type": "markdown",
      "source": [
        "### Dataset Rows & Columns count"
      ],
      "metadata": {
        "id": "7hBIi_osiCS2"
      }
    },
    {
      "cell_type": "code",
      "source": [
        "# Dataset Rows & Columns count\n",
        "df.shape"
      ],
      "metadata": {
        "id": "Kllu7SJgmLij"
      },
      "execution_count": null,
      "outputs": []
    },
    {
      "cell_type": "markdown",
      "source": [
        "### Dataset Information"
      ],
      "metadata": {
        "id": "JlHwYmJAmNHm"
      }
    },
    {
      "cell_type": "code",
      "source": [
        "# Dataset Info\n",
        "df.info"
      ],
      "metadata": {
        "id": "e9hRXRi6meOf"
      },
      "execution_count": null,
      "outputs": []
    },
    {
      "cell_type": "markdown",
      "source": [
        "#### Duplicate Values"
      ],
      "metadata": {
        "id": "35m5QtbWiB9F"
      }
    },
    {
      "cell_type": "code",
      "source": [
        "# Dataset Duplicate Value Count\n",
        "print(\"total duplicate rows: \",int(df.duplicated().sum()))"
      ],
      "metadata": {
        "id": "1sLdpKYkmox0"
      },
      "execution_count": null,
      "outputs": []
    },
    {
      "cell_type": "markdown",
      "source": [
        "#### Missing Values/Null Values"
      ],
      "metadata": {
        "id": "PoPl-ycgm1ru"
      }
    },
    {
      "cell_type": "code",
      "source": [
        "# Missing Values/Null Values Count\n",
        "df.replace(\"?\", np.nan, inplace=True)\n",
        "print(f\"total missing values in columns: \\n\\n{df.isnull().sum()}\")"
      ],
      "metadata": {
        "id": "GgHWkxvamxVg"
      },
      "execution_count": null,
      "outputs": []
    },
    {
      "cell_type": "code",
      "source": [
        "# Visualizing the missing values\n",
        "plt.figure(figsize=(16, 6))\n",
        "df.isnull().sum().plot(kind=\"bar\")\n",
        "\n",
        "plt.title(\"Missing Values per Column\")\n",
        "plt.ylabel(\"Count\")\n",
        "plt.show()"
      ],
      "metadata": {
        "id": "3q5wnI3om9sJ"
      },
      "execution_count": null,
      "outputs": []
    },
    {
      "cell_type": "markdown",
      "source": [
        "### **What did you know about your dataset?**\n",
        "This dataset contains information about various automobile features, likely aimed at analyzing or predicting car prices. It has 205 rows and 26 columns, including both numerical and categorical variables such as make, fuel type, engine size, horsepower, and price. Several columns originally contained missing values represented by \"?\", which were successfully replaced with NaN. After cleaning, seven columns still have missing data, including normalized-losses, num-of-doors, bore, stroke, horsepower, peak-rpm, and price. Numerical columns vary widely, indicating potential for modeling and analysis, while some like compression-ratio show signs of outliers. The dataset is well-suited for tasks such as exploratory data analysis and building machine learning models for price prediction, provided missing values are handled and categorical variables are properly encoded."
      ],
      "metadata": {
        "id": "gfoNAAC-nUe_"
      }
    },
    {
      "cell_type": "markdown",
      "source": [
        "**What** did you know about your dataset? **bold text**"
      ],
      "metadata": {
        "id": "H0kj-8xxnORC"
      }
    },
    {
      "cell_type": "markdown",
      "source": [
        "## ***2. Understanding Your Variables***"
      ],
      "metadata": {
        "id": "nA9Y7ga8ng1Z"
      }
    },
    {
      "cell_type": "code",
      "source": [
        "# Dataset Columns\n",
        "df.columns"
      ],
      "metadata": {
        "id": "j7xfkqrt5Ag5"
      },
      "execution_count": null,
      "outputs": []
    },
    {
      "cell_type": "code",
      "source": [
        "# Dataset Describe\n",
        "print(df.describe())"
      ],
      "metadata": {
        "id": "DnOaZdaE5Q5t"
      },
      "execution_count": null,
      "outputs": []
    },
    {
      "cell_type": "markdown",
      "source": [
        "### Variables Description"
      ],
      "metadata": {
        "id": "PBTbrJXOngz2"
      }
    },
    {
      "cell_type": "markdown",
      "source": [
        "| Column Name         | Description                                                                     |\n",
        "| ------------------- | ------------------------------------------------------------------------------- |\n",
        "| `symboling`         | **Risk factor rating**: from -3 (safe) to +3 (risky). Higher = more risky car.  |\n",
        "| `normalized-losses` | Insurance loss rating (normalized). Missing values often.                       |\n",
        "| `make`              | Brand/manufacturer of the car (e.g., BMW, Toyota).                              |\n",
        "| `fuel-type`         | Fuel type: **gas** or **diesel**.                                               |\n",
        "| `aspiration`        | Type of engine aspiration: **std** (standard) or **turbo** (turbocharged).      |\n",
        "| `num-of-doors`      | Number of doors: **two**, **four**, etc. Sometimes missing.                     |\n",
        "| `body-style`        | Sedan, hatchback, convertible, wagon, etc.                                      |\n",
        "| `drive-wheels`      | FWD, RWD, or 4WD (front/rear/all-wheel drive).                                  |\n",
        "| `engine-location`   | Where the engine is placed: front or rear.                                      |\n",
        "| `wheel-base`        | Distance between front and rear wheels (in inches). Affects stability.          |\n",
        "| `length`            | Car length (in inches).                                                         |\n",
        "| `width`             | Car width (in inches).                                                          |\n",
        "| `height`            | Car height (in inches).                                                         |\n",
        "| `curb-weight`       | Car weight without passengers/cargo.                                            |\n",
        "| `engine-type`       | Type of engine: dohc, ohc, ohcv, l, etc.                                        |\n",
        "| `num-of-cylinders`  | Number of engine cylinders: four, six, eight, etc. (as string).                 |\n",
        "| `engine-size`       | Total displacement of the engine (cc). Bigger = more power.                     |\n",
        "| `fuel-system`       | Fuel system: mpfi, 2bbl, 1bbl, spfi, etc.                                       |\n",
        "| `bore`              | Diameter of the engine cylinder (in inches). Missing values possible.           |\n",
        "| `stroke`            | Movement of the piston inside the cylinder (in inches). Missing possible.       |\n",
        "| `compression-ratio` | Ratio of compression before ignition. Higher ratio = more power/fuel efficient. |\n",
        "| `horsepower`        | Engine output power. Often missing or represented as '?'.                       |\n",
        "| `peak-rpm`          | RPM at which maximum horsepower is generated.                                   |\n",
        "| `city-mpg`          | Mileage in city driving (miles per gallon).                                     |\n",
        "| `highway-mpg`       | Mileage on highways (miles per gallon).                                         |\n",
        "| `price`             | Price of the car (USD). May contain missing values or '?'.                      |\n"
      ],
      "metadata": {
        "id": "aJV4KIxSnxay"
      }
    },
    {
      "cell_type": "markdown",
      "source": [
        "### Check Unique Values for each variable."
      ],
      "metadata": {
        "id": "u3PMJOP6ngxN"
      }
    },
    {
      "cell_type": "code",
      "source": [
        "# Check Unique Values for each variable.\n",
        "a = {x: df[x].unique().tolist() for x in df.columns}\n",
        "print(a)\n",
        "print(*[f\"no. of unique values in column {x} is {len(a.get(x))}\" for x in a],sep='\\n')"
      ],
      "metadata": {
        "id": "zms12Yq5n-jE"
      },
      "execution_count": null,
      "outputs": []
    },
    {
      "cell_type": "markdown",
      "source": [
        "## 3. ***Data Wrangling***"
      ],
      "metadata": {
        "id": "dauF4eBmngu3"
      }
    },
    {
      "cell_type": "markdown",
      "source": [
        "### Data Wrangling Code"
      ],
      "metadata": {
        "id": "bKJF3rekwFvQ"
      }
    },
    {
      "cell_type": "code",
      "source": [
        "df.replace(\"?\", np.nan, inplace=True)\n",
        "\n",
        "numeric_cols = ['normalized-losses', 'bore', 'stroke', 'horsepower', 'peak-rpm', 'price']\n",
        "for col in numeric_cols:\n",
        "    df[col] = pd.to_numeric(df[col], errors='coerce')\n",
        "    df[col] = df[col].fillna(df[col].median())\n",
        "\n",
        "# Handle missing values in 'num-of-doors' by checking if mode() is empty\n",
        "num_doors_mode = df[\"num-of-doors\"].mode()\n",
        "if not num_doors_mode.empty:\n",
        "    df[\"num-of-doors\"] = df[\"num-of-doors\"].fillna(num_doors_mode[0])\n",
        "else:\n",
        "    # Handle the case where mode() is empty, perhaps fill with a default value like 'four'\n",
        "    df[\"num-of-doors\"] = df[\"num-of-doors\"].fillna('four')\n",
        "\n",
        "\n",
        "for col in df.columns:\n",
        "    if df[col].dtype == 'object':\n",
        "        df[col] = df[col].str.lower()\n",
        "\n",
        "maps = {'four': 4, 'six': 6, 'five': 5, 'three': 3, 'twelve': 12, 'two': 2, 'eight': 8}\n",
        "df['num-of-doors'] = df['num-of-doors'].map(maps)\n",
        "df['num-of-cylinders'] = df['num-of-cylinders'].map(maps)\n",
        "\n",
        "df.drop_duplicates(inplace=True)\n",
        "df.reset_index(drop=True, inplace=True)\n",
        "df.info()"
      ],
      "metadata": {
        "id": "wk-9a2fpoLcV"
      },
      "execution_count": null,
      "outputs": []
    },
    {
      "cell_type": "markdown",
      "source": [
        "### What all manipulations have you done and insights you found?"
      ],
      "metadata": {
        "id": "MSa1f5Uengrz"
      }
    },
    {
      "cell_type": "markdown",
      "source": [
        "1. Manipulations Done:\n",
        "\n",
        "Replaced all \"?\" entries with NaN to handle missing values properly.\n",
        "\n",
        "Converted object-type numerical columns like horsepower, bore, stroke, and price to actual numeric types using pd.to_numeric().\n",
        "\n",
        "Filled missing values in numeric columns with the median of each column.\n",
        "\n",
        "Filled missing values in the num-of-doors column using the mode (most common value).\n",
        "\n",
        "Converted all string-based columns to lowercase for consistency.\n",
        "\n",
        "Mapped textual numbers (e.g., 'four', 'two') to integers in num-of-doors and num-of-cylinders.\n",
        "\n",
        "Removed duplicate rows using drop_duplicates().\n",
        "\n",
        "Reset the DataFrame index after cleaning operations using reset_index().\n",
        "\n",
        "2.  Insights Found:\n",
        "\n",
        "Several key columns had missing values, such as normalized-losses, bore, stroke, and price, which are important for price prediction or analysis.\n",
        "\n",
        "Most categorical columns have a manageable number of unique values, making them suitable for encoding in machine learning.\n",
        "\n",
        "Some numerical variables, such as engine-size, horsepower, and curb-weight, are likely to be important predictors for car price."
      ],
      "metadata": {
        "id": "LbyXE7I1olp8"
      }
    },
    {
      "cell_type": "markdown",
      "source": [
        "## ***4. Data Vizualization, Storytelling & Experimenting with charts : Understand the relationships between variables***"
      ],
      "metadata": {
        "id": "GF8Ens_Soomf"
      }
    },
    {
      "cell_type": "markdown",
      "source": [
        "#### Chart - 1"
      ],
      "metadata": {
        "id": "0wOQAZs5pc--"
      }
    },
    {
      "cell_type": "code",
      "source": [
        "# Chart - 1 visualization code\n",
        "# Scatterplot: Engine Size vs Price\n",
        "plt.figure(figsize=(10, 6))\n",
        "sns.scatterplot(data=df, x='engine-size', y='price', hue='fuel-type')\n",
        "plt.title('Engine Size vs Price colored by Fuel Type')\n",
        "plt.xlabel('Engine Size')\n",
        "plt.ylabel('Price ($)')\n",
        "plt.show()\n"
      ],
      "metadata": {
        "id": "7v_ESjsspbW7"
      },
      "execution_count": null,
      "outputs": []
    },
    {
      "cell_type": "markdown",
      "source": [
        "##### 1. Why did you pick the specific chart?"
      ],
      "metadata": {
        "id": "K5QZ13OEpz2H"
      }
    },
    {
      "cell_type": "markdown",
      "source": [
        "I chose this scatterplot because it shows the relationship between two important numeric variables — engine size and car price — and uses fuel-type as hue to compare gas vs diesel cars in the same plot. This helps visually check whether bigger engines mean higher prices and whether fuel type affects this relationship."
      ],
      "metadata": {
        "id": "XESiWehPqBRc"
      }
    },
    {
      "cell_type": "markdown",
      "source": [
        "##### 2. What is/are the insight(s) found from the chart?"
      ],
      "metadata": {
        "id": "lQ7QKXXCp7Bj"
      }
    },
    {
      "cell_type": "markdown",
      "source": [
        "The chart shows a clear positive trend: cars with larger engine sizes generally have higher prices. Also, there is some visible difference in price ranges for gas vs diesel cars — diesel cars tend to cluster at slightly different engine sizes and price points, showing how fuel type may affect pricing too."
      ],
      "metadata": {
        "id": "C_j1G7yiqdRP"
      }
    },
    {
      "cell_type": "markdown",
      "source": [
        "##### 3. Will the gained insights help creating a positive business impact?\n",
        "Are there any insights that lead to negative growth? Justify with specific reason."
      ],
      "metadata": {
        "id": "448CDAPjqfQr"
      }
    },
    {
      "cell_type": "markdown",
      "source": [
        "Convertibles and hardtops tend to have a higher average price compared to other body styles.\n",
        "\n",
        "Hatchbacks and Wagon are the most affordable options.\n",
        "\n",
        "Sedans fall somewhere in the middle, indicating moderate pricing."
      ],
      "metadata": {
        "id": "3cspy4FjqxJW"
      }
    },
    {
      "cell_type": "markdown",
      "source": [
        "#### Chart - 2"
      ],
      "metadata": {
        "id": "KSlN3yHqYklG"
      }
    },
    {
      "cell_type": "code",
      "source": [
        "\n",
        "# Bar Plot: Average Price by Body Style\n",
        "plt.figure(figsize=(8, 5))\n",
        "sns.barplot(data=df, x='body-style', y='price', palette='pastel')\n",
        "plt.title('Average Price by Body Style')\n",
        "plt.xlabel('Body Style')\n",
        "plt.ylabel('Average Price ($)')\n",
        "plt.show()\n"
      ],
      "metadata": {
        "id": "R4YgtaqtYklH"
      },
      "execution_count": null,
      "outputs": []
    },
    {
      "cell_type": "markdown",
      "source": [
        "##### 1. Why did you pick the specific chart?"
      ],
      "metadata": {
        "id": "t6dVpIINYklI"
      }
    },
    {
      "cell_type": "markdown",
      "source": [
        "I chose this chart because it clearly shows how the target variable (price) varies across a key categorical feature (like body-style or drive-wheels). A bar plot makes it easy to compare average prices between categories at a glance. This helps identify which types of cars tend to be more expensive and shows useful trends for buyers, sellers, or manufacturers"
      ],
      "metadata": {
        "id": "5aaW0BYyYklI"
      }
    },
    {
      "cell_type": "markdown",
      "source": [
        "##### 2. What is/are the insight(s) found from the chart?"
      ],
      "metadata": {
        "id": "ijmpgYnKYklI"
      }
    },
    {
      "cell_type": "markdown",
      "source": [
        "The chart shows that certain body styles — like convertibles and hardtops — have higher average prices than hatchbacks or sedans. This means that the type of body style strongly affects the car’s market value."
      ],
      "metadata": {
        "id": "PSx9atu2YklI"
      }
    },
    {
      "cell_type": "markdown",
      "source": [
        "##### 3. Will the gained insights help creating a positive business impact?\n",
        "Are there any insights that lead to negative growth? Justify with specific reason."
      ],
      "metadata": {
        "id": "-JiQyfWJYklI"
      }
    },
    {
      "cell_type": "markdown",
      "source": [
        "“This insight helps stakeholders understand how body style affects pricing — which can guide production, marketing, and sales strategies for better profits.”"
      ],
      "metadata": {
        "id": "BcBbebzrYklV"
      }
    },
    {
      "cell_type": "markdown",
      "source": [
        "#### Chart - 3"
      ],
      "metadata": {
        "id": "EM7whBJCYoAo"
      }
    },
    {
      "cell_type": "code",
      "source": [
        "# Chart - 3 visualization code\n",
        "plt.figure(figsize=(6, 4))\n",
        "sns.barplot(data=df, x='fuel-type', y='price', estimator='mean', hue='fuel-type', palette='Set2', errorbar=None)\n",
        "plt.title('Average Car Price by Fuel Type')\n",
        "plt.xlabel('Fuel Type')\n",
        "plt.ylabel('Average Price (USD)')\n",
        "plt.tight_layout()\n",
        "plt.show()"
      ],
      "metadata": {
        "id": "t6GMdE67YoAp"
      },
      "execution_count": null,
      "outputs": []
    },
    {
      "cell_type": "markdown",
      "source": [
        "##### 1. Why did you pick the specific chart?"
      ],
      "metadata": {
        "id": "fge-S5ZAYoAp"
      }
    },
    {
      "cell_type": "markdown",
      "source": [
        "This bar chart compares the average price of cars based on their fuel type — a key factor in customer decision-making. Since fuel-type is a simple categorical variable with only a few values (gas, diesel), it is easy to interpret and ideal for bar plots."
      ],
      "metadata": {
        "id": "5dBItgRVYoAp"
      }
    },
    {
      "cell_type": "markdown",
      "source": [
        "##### 2. What is/are the insight(s) found from the chart?"
      ],
      "metadata": {
        "id": "85gYPyotYoAp"
      }
    },
    {
      "cell_type": "code",
      "source": [],
      "metadata": {
        "id": "mCGjNtySjLlt"
      },
      "execution_count": null,
      "outputs": []
    },
    {
      "cell_type": "markdown",
      "source": [
        "Diesel cars have a higher average price than gas cars.\n",
        "\n",
        "This could mean diesel variants are more powerful or have better build/features — or simply cost more due to market positioning."
      ],
      "metadata": {
        "id": "4jstXR6OYoAp"
      }
    },
    {
      "cell_type": "markdown",
      "source": [
        "#### Chart - 4"
      ],
      "metadata": {
        "id": "4Of9eVA-YrdM"
      }
    },
    {
      "cell_type": "code",
      "source": [
        "# Chart - 4 visualization code\n",
        "# Boxplot: Price by Drive Wheels\n",
        "plt.figure(figsize=(10, 6))\n",
        "sns.boxplot(data=df, x='drive-wheels', y='price', palette='Set3')\n",
        "plt.title('Price Distribution by Drive Wheels Type')\n",
        "plt.xlabel('Drive Wheels')\n",
        "plt.ylabel('Price ($)')\n",
        "plt.show()"
      ],
      "metadata": {
        "id": "irlUoxc8YrdO"
      },
      "execution_count": null,
      "outputs": []
    },
    {
      "cell_type": "markdown",
      "source": [
        "##### 1. Why did you pick the specific chart?"
      ],
      "metadata": {
        "id": "iky9q4vBYrdO"
      }
    },
    {
      "cell_type": "markdown",
      "source": [
        "I chose this boxplot because it shows how car prices vary across different drive wheels types (FWD, RWD, 4WD) and highlights price spread, median price, and outliers in each group."
      ],
      "metadata": {
        "id": "aJRCwT6DYrdO"
      }
    },
    {
      "cell_type": "markdown",
      "source": [
        "##### 2. What is/are the insight(s) found from the chart?"
      ],
      "metadata": {
        "id": "F6T5p64dYrdO"
      }
    },
    {
      "cell_type": "markdown",
      "source": [
        "Rear-wheel drive (RWD) cars tend to have a higher median price and wider price range compared to front-wheel drive (FWD) cars. 4-wheel drive (4WD) cars also show relatively high prices but fewer extreme outliers."
      ],
      "metadata": {
        "id": "Xx8WAJvtYrdO"
      }
    },
    {
      "cell_type": "markdown",
      "source": [
        "##### 3. Will the gained insights help creating a positive business impact?\n",
        "Are there any insights that lead to negative growth? Justify with specific reason."
      ],
      "metadata": {
        "id": "y-Ehk30pYrdP"
      }
    },
    {
      "cell_type": "markdown",
      "source": [
        "knowing that RWD and 4WD cars tend to sell for higher prices helps a company focus marketing and production on these segments to improve profit margins.\n",
        "\n",
        " No direct insight leads to negative growth, but overproducing expensive RWD or 4WD models might miss out on the large market for affordable FWD cars, so a balanced product mix is important."
      ],
      "metadata": {
        "id": "jLNxxz7MYrdP"
      }
    },
    {
      "cell_type": "markdown",
      "source": [
        "#### Chart - 5"
      ],
      "metadata": {
        "id": "bamQiAODYuh1"
      }
    },
    {
      "cell_type": "code",
      "source": [
        "# Chart - 5 visualization code\n",
        "\n",
        "plt.figure(figsize=(8, 5))\n",
        "sns.countplot(data=df, x='body-style', hue='body-style', palette='pastel', dodge=False)\n",
        "plt.title('Count of Cars by Body Style')\n",
        "plt.xlabel('Body Style')\n",
        "plt.ylabel('Number of Cars')\n",
        "plt.legend([], [], frameon=False)  # Hide redundant legend\n",
        "plt.show()\n"
      ],
      "metadata": {
        "id": "TIJwrbroYuh3"
      },
      "execution_count": null,
      "outputs": []
    },
    {
      "cell_type": "markdown",
      "source": [
        "##### 1. Why did you pick the specific chart?"
      ],
      "metadata": {
        "id": "QHF8YVU7Yuh3"
      }
    },
    {
      "cell_type": "markdown",
      "source": [
        "I chose this chart because a countplot clearly shows the frequency of each body style. It helps identify which car types are most common in the dataset."
      ],
      "metadata": {
        "id": "dcxuIMRPYuh3"
      }
    },
    {
      "cell_type": "markdown",
      "source": [
        "##### 2. What is/are the insight(s) found from the chart?"
      ],
      "metadata": {
        "id": "GwzvFGzlYuh3"
      }
    },
    {
      "cell_type": "markdown",
      "source": [
        "The chart shows that sedans and hatchbacks are the most common body styles, while hardtops and convertibles are rare."
      ],
      "metadata": {
        "id": "uyqkiB8YYuh3"
      }
    },
    {
      "cell_type": "markdown",
      "source": [
        "##### 3. Will the gained insights help creating a positive business impact?\n",
        "Are there any insights that lead to negative growth? Justify with specific reason."
      ],
      "metadata": {
        "id": "qYpmQ266Yuh3"
      }
    },
    {
      "cell_type": "markdown",
      "source": [
        "this helps a company know which segments have higher volume and which are niche. They can use this to decide production or marketing focus.\n",
        "\n",
        " There’s no direct insight that leads to negative growth. But only focusing on high-volume segments might ignore profitable premium segments like convertibles.\n",
        "\n"
      ],
      "metadata": {
        "id": "_WtzZ_hCYuh4"
      }
    },
    {
      "cell_type": "markdown",
      "source": [
        "#### Chart - 6"
      ],
      "metadata": {
        "id": "OH-pJp9IphqM"
      }
    },
    {
      "cell_type": "code",
      "source": [
        "plt.figure(figsize=(10, 6))\n",
        "sns.histplot(data=df, x='horsepower', bins=30, hue='fuel-type', kde=True, palette='Set2')\n",
        "plt.title('Distribution of Horsepower by Fuel Type')\n",
        "plt.xlabel('Horsepower')\n",
        "plt.ylabel('Count')\n",
        "plt.show()\n"
      ],
      "metadata": {
        "id": "kuRf4wtuphqN"
      },
      "execution_count": null,
      "outputs": []
    },
    {
      "cell_type": "markdown",
      "source": [
        "##### 1. Why did you pick the specific chart?"
      ],
      "metadata": {
        "id": "bbFf2-_FphqN"
      }
    },
    {
      "cell_type": "markdown",
      "source": [
        "shows how horsepower is distributed — good to spot common vs rare ranges."
      ],
      "metadata": {
        "id": "loh7H2nzphqN"
      }
    },
    {
      "cell_type": "markdown",
      "source": [
        "##### 2. What is/are the insight(s) found from the chart?"
      ],
      "metadata": {
        "id": "_ouA3fa0phqN"
      }
    },
    {
      "cell_type": "markdown",
      "source": [
        "Most cars have mid-level horsepower; few high-power outliers exist."
      ],
      "metadata": {
        "id": "VECbqPI7phqN"
      }
    },
    {
      "cell_type": "markdown",
      "source": [
        "##### 3. Will the gained insights help creating a positive business impact?\n",
        "Are there any insights that lead to negative growth? Justify with specific reason."
      ],
      "metadata": {
        "id": "Seke61FWphqN"
      }
    },
    {
      "cell_type": "markdown",
      "source": [
        " Helps decide which horsepower ranges to target. No negative risk unless ignoring market segments"
      ],
      "metadata": {
        "id": "DW4_bGpfphqN"
      }
    },
    {
      "cell_type": "markdown",
      "source": [
        "#### Chart - 7"
      ],
      "metadata": {
        "id": "PIIx-8_IphqN"
      }
    },
    {
      "cell_type": "code",
      "source": [
        "# Chart - 7 visualization code\n",
        "plt.figure(figsize=(10, 6))\n",
        "sns.scatterplot(data=df, x='curb-weight', y='price', hue='body-style')\n",
        "plt.title('Curb Weight vs Price colored by Body Style')\n",
        "plt.xlabel('Curb Weight')\n",
        "plt.ylabel('Price ($)')\n",
        "plt.show()\n"
      ],
      "metadata": {
        "id": "lqAIGUfyphqO"
      },
      "execution_count": null,
      "outputs": []
    },
    {
      "cell_type": "markdown",
      "source": [
        "##### 1. Why did you pick the specific chart?"
      ],
      "metadata": {
        "id": "t27r6nlMphqO"
      }
    },
    {
      "cell_type": "markdown",
      "source": [
        "Checks link between weight & price, using body style for extra pattern."
      ],
      "metadata": {
        "id": "iv6ro40sphqO"
      }
    },
    {
      "cell_type": "markdown",
      "source": [
        "##### 2. What is/are the insight(s) found from the chart?"
      ],
      "metadata": {
        "id": "r2jJGEOYphqO"
      }
    },
    {
      "cell_type": "markdown",
      "source": [
        "Heavier cars generally cost more. Body styles cluster at different ranges."
      ],
      "metadata": {
        "id": "Po6ZPi4hphqO"
      }
    },
    {
      "cell_type": "markdown",
      "source": [
        "##### 3. Will the gained insights help creating a positive business impact?\n",
        "Are there any insights that lead to negative growth? Justify with specific reason."
      ],
      "metadata": {
        "id": "b0JNsNcRphqO"
      }
    },
    {
      "cell_type": "markdown",
      "source": [
        " Helps price heavier cars higher. No major negative impact"
      ],
      "metadata": {
        "id": "xvSq8iUTphqO"
      }
    },
    {
      "cell_type": "markdown",
      "source": [
        "#### Chart - 8"
      ],
      "metadata": {
        "id": "BZR9WyysphqO"
      }
    },
    {
      "cell_type": "code",
      "source": [
        "# Chart - 8 visualization code\n",
        "plt.figure(figsize=(8, 5))\n",
        "sns.boxplot(data=df, x='fuel-type', y='price', palette='Set2',hue='fuel-type')\n",
        "plt.title('Price Distribution by Fuel Type')\n",
        "plt.xlabel('Fuel Type')\n",
        "plt.ylabel('Price ($)')\n",
        "plt.show()\n"
      ],
      "metadata": {
        "id": "TdPTWpAVphqO"
      },
      "execution_count": null,
      "outputs": []
    },
    {
      "cell_type": "markdown",
      "source": [
        "##### 1. Why did you pick the specific chart?"
      ],
      "metadata": {
        "id": "jj7wYXLtphqO"
      }
    },
    {
      "cell_type": "markdown",
      "source": [
        "Compares how price range differs by fuel type."
      ],
      "metadata": {
        "id": "Ob8u6rCTphqO"
      }
    },
    {
      "cell_type": "markdown",
      "source": [
        "##### 2. What is/are the insight(s) found from the chart?"
      ],
      "metadata": {
        "id": "eZrbJ2SmphqO"
      }
    },
    {
      "cell_type": "markdown",
      "source": [
        "Diesel cars often cost more than gas cars — or have tighter range."
      ],
      "metadata": {
        "id": "mZtgC_hjphqO"
      }
    },
    {
      "cell_type": "markdown",
      "source": [
        "##### 3. Will the gained insights help creating a positive business impact?\n",
        "Are there any insights that lead to negative growth? Justify with specific reason."
      ],
      "metadata": {
        "id": "rFu4xreNphqO"
      }
    },
    {
      "cell_type": "markdown",
      "source": [
        "Supports pricing or supply plan by fuel type. No major downside"
      ],
      "metadata": {
        "id": "ey_0qi68phqO"
      }
    },
    {
      "cell_type": "markdown",
      "source": [
        "#### Chart - 9"
      ],
      "metadata": {
        "id": "YJ55k-q6phqO"
      }
    },
    {
      "cell_type": "code",
      "source": [
        "# Chart - 9 visualization code\n",
        "plt.figure(figsize=(8, 5))\n",
        "sns.countplot(data=df, x='drive-wheels', hue='drive-wheels', palette='pastel', dodge=False)\n",
        "plt.title('Count of Cars by Drive Wheels Type')\n",
        "plt.xlabel('Drive Wheels')\n",
        "plt.ylabel('Number of Cars')\n",
        "plt.legend([], [], frameon=False)\n",
        "plt.show()\n"
      ],
      "metadata": {
        "id": "B2aS4O1ophqO"
      },
      "execution_count": null,
      "outputs": []
    },
    {
      "cell_type": "markdown",
      "source": [
        "##### 1. Why did you pick the specific chart?"
      ],
      "metadata": {
        "id": "gCFgpxoyphqP"
      }
    },
    {
      "cell_type": "markdown",
      "source": [
        "Shows popularity of each drive wheel type."
      ],
      "metadata": {
        "id": "TVxDimi2phqP"
      }
    },
    {
      "cell_type": "markdown",
      "source": [
        "##### 2. What is/are the insight(s) found from the chart?"
      ],
      "metadata": {
        "id": "OVtJsKN_phqQ"
      }
    },
    {
      "cell_type": "markdown",
      "source": [
        "Front-wheel drive cars dominate the dataset."
      ],
      "metadata": {
        "id": "ngGi97qjphqQ"
      }
    },
    {
      "cell_type": "markdown",
      "source": [
        "##### 3. Will the gained insights help creating a positive business impact?\n",
        "Are there any insights that lead to negative growth? Justify with specific reason."
      ],
      "metadata": {
        "id": "lssrdh5qphqQ"
      }
    },
    {
      "cell_type": "markdown",
      "source": [
        "Helps plan production focus. No negative growth unless ignoring niche AWD/RWD demand."
      ],
      "metadata": {
        "id": "tBpY5ekJphqQ"
      }
    },
    {
      "cell_type": "markdown",
      "source": [
        "#### Chart - 10"
      ],
      "metadata": {
        "id": "U2RJ9gkRphqQ"
      }
    },
    {
      "cell_type": "code",
      "source": [
        "# Chart - 10 visualization code\n",
        "# Violin Plot: Price by Body Style\n",
        "plt.figure(figsize=(10, 6))\n",
        "sns.violinplot(data=df, x='body-style', y='price', palette='muted')\n",
        "plt.title('Price Distribution by Body Style (Violin Plot)')\n",
        "plt.xlabel('Body Style')\n",
        "plt.ylabel('Price ($)')\n",
        "plt.show()\n"
      ],
      "metadata": {
        "id": "GM7a4YP4phqQ"
      },
      "execution_count": null,
      "outputs": []
    },
    {
      "cell_type": "markdown",
      "source": [
        "##### 1. Why did you pick the specific chart?"
      ],
      "metadata": {
        "id": "1M8mcRywphqQ"
      }
    },
    {
      "cell_type": "markdown",
      "source": [
        "Shows detailed price distribution for each body style — shape + median + outliers.\n"
      ],
      "metadata": {
        "id": "8agQvks0phqQ"
      }
    },
    {
      "cell_type": "markdown",
      "source": [
        "##### 2. What is/are the insight(s) found from the chart?"
      ],
      "metadata": {
        "id": "tgIPom80phqQ"
      }
    },
    {
      "cell_type": "markdown",
      "source": [
        "Some body styles (like convertibles) have higher and wider price ranges."
      ],
      "metadata": {
        "id": "Qp13pnNzphqQ"
      }
    },
    {
      "cell_type": "markdown",
      "source": [
        "##### 3. Will the gained insights help creating a positive business impact?\n",
        "Are there any insights that lead to negative growth? Justify with specific reason."
      ],
      "metadata": {
        "id": "JMzcOPDDphqR"
      }
    },
    {
      "cell_type": "markdown",
      "source": [
        " Helps plan which segments are premium vs budget. No negative growth risk if variety is offered."
      ],
      "metadata": {
        "id": "R4Ka1PC2phqR"
      }
    },
    {
      "cell_type": "markdown",
      "source": [
        "#### Chart - 11"
      ],
      "metadata": {
        "id": "x-EpHcCOp1ci"
      }
    },
    {
      "cell_type": "code",
      "source": [
        "# Chart - 11 visualization code\n",
        "# Pairplot: Price vs Engine Size & Horsepower\n",
        "sns.pairplot(df, vars=['engine-size', 'horsepower', 'price'], hue='fuel-type', palette='Set1')\n",
        "plt.suptitle('Pairplot: Engine Size, Horsepower, and Price', y=1.02)\n",
        "plt.show()\n"
      ],
      "metadata": {
        "id": "mAQTIvtqp1cj"
      },
      "execution_count": null,
      "outputs": []
    },
    {
      "cell_type": "markdown",
      "source": [
        "##### 1. Why did you pick the specific chart?"
      ],
      "metadata": {
        "id": "X_VqEhTip1ck"
      }
    },
    {
      "cell_type": "markdown",
      "source": [
        "Shows how multiple numeric features relate to each other in one view."
      ],
      "metadata": {
        "id": "-vsMzt_np1ck"
      }
    },
    {
      "cell_type": "markdown",
      "source": [
        "##### 2. What is/are the insight(s) found from the chart?"
      ],
      "metadata": {
        "id": "8zGJKyg5p1ck"
      }
    },
    {
      "cell_type": "markdown",
      "source": [
        "Engine size and horsepower are strongly related; both relate positively with price."
      ],
      "metadata": {
        "id": "ZYdMsrqVp1ck"
      }
    },
    {
      "cell_type": "markdown",
      "source": [
        "##### 3. Will the gained insights help creating a positive business impact?\n",
        "Are there any insights that lead to negative growth? Justify with specific reason."
      ],
      "metadata": {
        "id": "PVzmfK_Ep1ck"
      }
    },
    {
      "cell_type": "markdown",
      "source": [
        "Helps decide which specs influence price most. No major negative risk."
      ],
      "metadata": {
        "id": "druuKYZpp1ck"
      }
    },
    {
      "cell_type": "markdown",
      "source": [
        "#### Chart - 12"
      ],
      "metadata": {
        "id": "n3dbpmDWp1ck"
      }
    },
    {
      "cell_type": "code",
      "source": [
        "# Bar Plot: Average Horsepower by Body Style\n",
        "plt.figure(figsize=(10, 6))\n",
        "sns.barplot(data=df, x='body-style', y='horsepower', estimator=np.mean, palette='Set3')\n",
        "plt.title('Average Horsepower by Body Style')\n",
        "plt.xlabel('Body Style')\n",
        "plt.ylabel('Average Horsepower')\n",
        "plt.show()\n",
        "\n"
      ],
      "metadata": {
        "id": "bwevp1tKp1ck"
      },
      "execution_count": null,
      "outputs": []
    },
    {
      "cell_type": "markdown",
      "source": [
        "##### 1. Why did you pick the specific chart?"
      ],
      "metadata": {
        "id": "ylSl6qgtp1ck"
      }
    },
    {
      "cell_type": "markdown",
      "source": [
        "compares mean horsepower across different body styles."
      ],
      "metadata": {
        "id": "m2xqNkiQp1ck"
      }
    },
    {
      "cell_type": "markdown",
      "source": [
        "##### 2. What is/are the insight(s) found from the chart?"
      ],
      "metadata": {
        "id": "ZWILFDl5p1ck"
      }
    },
    {
      "cell_type": "markdown",
      "source": [
        "Convertibles and hardtops usually have higher horsepower."
      ],
      "metadata": {
        "id": "x-lUsV2mp1ck"
      }
    },
    {
      "cell_type": "markdown",
      "source": [
        "##### 3. Will the gained insights help creating a positive business impact?\n",
        "Are there any insights that lead to negative growth? Justify with specific reason."
      ],
      "metadata": {
        "id": "M7G43BXep1ck"
      }
    },
    {
      "cell_type": "markdown",
      "source": [
        "Supports marketing sporty models to power-focused customers. No negative growth."
      ],
      "metadata": {
        "id": "5wwDJXsLp1cl"
      }
    },
    {
      "cell_type": "markdown",
      "source": [
        "#### Chart - 13"
      ],
      "metadata": {
        "id": "Ag9LCva-p1cl"
      }
    },
    {
      "cell_type": "code",
      "source": [
        "plt.figure(figsize=(12, 6))\n",
        "sns.barplot(data=df, x='body-style', y='price', hue='drive-wheels', estimator=np.mean, palette='Set2')\n",
        "plt.title('Average Price by Body Style and Drive Wheels')\n",
        "plt.xlabel('Body Style')\n",
        "plt.ylabel('Average Price ($)')\n",
        "plt.legend(title='Drive Wheels')\n",
        "plt.show()\n"
      ],
      "metadata": {
        "id": "EUfxeq9-p1cl"
      },
      "execution_count": null,
      "outputs": []
    },
    {
      "cell_type": "markdown",
      "source": [
        "##### 1. Why did you pick the specific chart?"
      ],
      "metadata": {
        "id": "E6MkPsBcp1cl"
      }
    },
    {
      "cell_type": "markdown",
      "source": [
        "Shows how both body style and drive wheels affect average price — gives more detail than a single category."
      ],
      "metadata": {
        "id": "V22bRsFWp1cl"
      }
    },
    {
      "cell_type": "markdown",
      "source": [
        "##### 2. What is/are the insight(s) found from the chart?"
      ],
      "metadata": {
        "id": "2cELzS2fp1cl"
      }
    },
    {
      "cell_type": "markdown",
      "source": [
        "E.g., sedans with rear-wheel drive may cost more than FWD; convertibles with RWD may be premium."
      ],
      "metadata": {
        "id": "ozQPc2_Ip1cl"
      }
    },
    {
      "cell_type": "markdown",
      "source": [
        "##### 3. Will the gained insights help creating a positive business impact?\n",
        "Are there any insights that lead to negative growth? Justify with specific reason."
      ],
      "metadata": {
        "id": "3MPXvC8up1cl"
      }
    },
    {
      "cell_type": "markdown",
      "source": [
        "Yes — helps position cars for sporty or premium buyers based on drive type + body style. No big negative risk if the lineup stays balanced."
      ],
      "metadata": {
        "id": "GL8l1tdLp1cl"
      }
    },
    {
      "cell_type": "markdown",
      "source": [
        "#### Chart - 14 - Correlation Heatmap"
      ],
      "metadata": {
        "id": "NC_X3p0fY2L0"
      }
    },
    {
      "cell_type": "code",
      "source": [
        "# Correlation Heatmap visualization code\n",
        "# Correlation Heatmap\n",
        "plt.figure(figsize=(10, 8))\n",
        "corr = df[['engine-size', 'horsepower', 'curb-weight', 'price']].corr()\n",
        "sns.heatmap(corr, annot=True, cmap='coolwarm')\n",
        "plt.title('Correlation Heatmap')\n",
        "plt.show()\n"
      ],
      "metadata": {
        "id": "xyC9zolEZNRQ"
      },
      "execution_count": null,
      "outputs": []
    },
    {
      "cell_type": "markdown",
      "source": [
        "##### 1. Why did you pick the specific chart?"
      ],
      "metadata": {
        "id": "UV0SzAkaZNRQ"
      }
    },
    {
      "cell_type": "markdown",
      "source": [
        "Shows strength of linear relationships between key numeric variables."
      ],
      "metadata": {
        "id": "DVPuT8LYZNRQ"
      }
    },
    {
      "cell_type": "markdown",
      "source": [
        "##### 2. What is/are the insight(s) found from the chart?"
      ],
      "metadata": {
        "id": "YPEH6qLeZNRQ"
      }
    },
    {
      "cell_type": "markdown",
      "source": [
        "Price has high correlation with engine size and horsepower."
      ],
      "metadata": {
        "id": "bfSqtnDqZNRR"
      }
    },
    {
      "cell_type": "markdown",
      "source": [
        "#### Chart - 15 - Pair Plot"
      ],
      "metadata": {
        "id": "q29F0dvdveiT"
      }
    },
    {
      "cell_type": "code",
      "source": [
        "# Pair Plot visualization code\n",
        "# Pair Plot visualization code\n",
        "# Select a subset of key numeric columns\n",
        "cols_to_plot = ['price', 'horsepower', 'engine-size', 'curb-weight', 'city-mpg']\n",
        "\n",
        "# Drop missing values\n",
        "sns_df = df[cols_to_plot].dropna()\n",
        "\n",
        "# Create pair plot\n",
        "sns.pairplot(sns_df, corner=True, diag_kind='kde', plot_kws={'alpha': 0.6})\n",
        "plt.suptitle(\"Pair Plot of Car Attributes\", y=1.02)\n",
        "plt.tight_layout()\n",
        "plt.show()"
      ],
      "metadata": {
        "id": "o58-TEIhveiU"
      },
      "execution_count": null,
      "outputs": []
    },
    {
      "cell_type": "markdown",
      "source": [
        "##### 1. Why did you pick the specific chart?"
      ],
      "metadata": {
        "id": "EXh0U9oCveiU"
      }
    },
    {
      "cell_type": "markdown",
      "source": [
        "I picked the pair plot because it visually compares all combinations of selected numerical features in one grid. It helps identify relationships, trends, and possible outliers. This is especially useful in early stages of analysis when you're exploring how different variables interact."
      ],
      "metadata": {
        "id": "eMmPjTByveiU"
      }
    },
    {
      "cell_type": "markdown",
      "source": [
        "##### 2. What is/are the insight(s) found from the chart?"
      ],
      "metadata": {
        "id": "22aHeOlLveiV"
      }
    },
    {
      "cell_type": "markdown",
      "source": [
        "price has a strong positive correlation with both horsepower and engine-size. More power → more expensive.\n",
        "\n",
        "curb-weight also rises with engine-size — bigger engines mean heavier cars.\n",
        "\n",
        "There's a negative relationship between city-mpg and price, indicating that more fuel-efficient cars are generally cheaper."
      ],
      "metadata": {
        "id": "uPQ8RGwHveiV"
      }
    },
    {
      "cell_type": "markdown",
      "source": [
        "## **5. Solution to Business Objective**"
      ],
      "metadata": {
        "id": "JcMwzZxoAimU"
      }
    },
    {
      "cell_type": "markdown",
      "source": [
        "#### What do you suggest the client to achieve Business Objective ?\n",
        "Explain Briefly."
      ],
      "metadata": {
        "id": "8G2x9gOozGDZ"
      }
    },
    {
      "cell_type": "markdown",
      "source": [
        "Segment customers effectively\n",
        "Group customers based on key attributes like price, engine size, fuel efficiency, and horsepower to target them with more relevant offerings.\n",
        "\n",
        "Optimize the product portfolio\n",
        "Focus on high-demand, high-margin models. Phase out cars that have high specs but low sales or poor pricing performance.\n",
        "\n",
        "Implement feature-based pricing strategy\n",
        "Since price correlates strongly with features like horsepower and engine size, pricing should reflect performance without undervaluing or overpricing.\n",
        "\n",
        "Use insights for strategic planning\n",
        "Leverage data on make, body-style, and performance to guide marketing, production planning, and inventory management.\n",
        "\n",
        "Improve data consistency and completeness\n",
        "Encourage better data collection practices to reduce missing values and standardize data entry across sources.\n",
        "\n",
        "Monitor fuel economy trends\n",
        "High fuel efficiency is linked with lower prices. Maintain a balance between performance and fuel economy to meet different market needs."
      ],
      "metadata": {
        "id": "pASKb0qOza21"
      }
    },
    {
      "cell_type": "markdown",
      "source": [
        "# **Conclusion**"
      ],
      "metadata": {
        "id": "gCX9965dhzqZ"
      }
    },
    {
      "cell_type": "markdown",
      "source": [
        "In this exploratory data analysis (EDA) project, we examined various features of the automobile dataset to uncover key relationships and insights. By cleaning and preparing the data, handling missing values, and converting categorical values into usable formats, we made the dataset analysis-ready.\n",
        "\n",
        "Through visualizations like bar plots, heatmaps, boxplots, and pair plots, we identified strong correlations between price and features such as engine size, horsepower, and curb weight. We also observed trends related to fuel efficiency, body style, and brand pricing strategies.\n",
        "\n",
        "These insights can help businesses segment their customers better, price their products more effectively, and make informed decisions on product development and marketing."
      ],
      "metadata": {
        "id": "Fjb1IsQkh3yE"
      }
    },
    {
      "cell_type": "markdown",
      "source": [
        "### ***Hurrah! You have successfully completed your EDA Capstone Project !!!***"
      ],
      "metadata": {
        "id": "gIfDvo9L0UH2"
      }
    }
  ]
}